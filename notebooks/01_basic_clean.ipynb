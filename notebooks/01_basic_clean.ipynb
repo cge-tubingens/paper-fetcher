{
 "cells": [
  {
   "cell_type": "code",
   "execution_count": null,
   "metadata": {},
   "outputs": [],
   "source": [
    "import sys\n",
    "import os\n",
    "\n",
    "import pandas as pd\n",
    "\n",
    "from sklearn.pipeline import Pipeline\n",
    "from sklearn.compose import ColumnTransformer\n",
    "\n",
    "# add parent directory to path\\n\",\n",
    "library_path = os.path.abspath('..')\n",
    "if library_path not in sys.path:\n",
    "    sys.path.append(library_path)\n",
    "\n",
    "from paper_fetcher.affi_cleaner import EmailDropper, FirstNonLetter, ElectronicAddressDropper, SubstringDropper\n",
    "\n",
    "from paper_fetcher.utils import recover_columns_names"
   ]
  },
  {
   "cell_type": "code",
   "execution_count": null,
   "metadata": {},
   "outputs": [],
   "source": [
    "FOLDER = '/media/luis/LaCie/data1/PubMedPapers/'\n",
    "\n",
    "df_all = pd.read_csv(\n",
    "    os.path.join(FOLDER, 'publications_filtered_v6.csv')\n",
    ")\n",
    "\n",
    "df_all[\"Affiliations\"] = df_all[\"Affiliations\"].astype(str)\n",
    "df_base = df_all[['PubMed ID', 'Author', 'Affiliations']].copy()\n",
    "df_base"
   ]
  },
  {
   "cell_type": "code",
   "execution_count": null,
   "metadata": {},
   "outputs": [],
   "source": [
    "affi_pipe = Pipeline([\n",
    "    ('fst2', FirstNonLetter().set_output(transform=\"pandas\")),\n",
    "    ('email', EmailDropper().set_output(transform=\"pandas\")),\n",
    "    ('elec', ElectronicAddressDropper().set_output(transform=\"pandas\")),\n",
    "])\n",
    "\n",
    "aff_trans = ColumnTransformer([\n",
    "    ('affi_pipe', affi_pipe, [\"Affiliations\"])\n",
    "], remainder=\"passthrough\")\n",
    "\n",
    "aff_trans.set_output(transform=\"pandas\")"
   ]
  },
  {
   "cell_type": "code",
   "execution_count": null,
   "metadata": {},
   "outputs": [],
   "source": [
    "df_base = aff_trans.fit_transform(df_base)\n",
    "df_base.columns = recover_columns_names(df_base)\n",
    "df_base"
   ]
  },
  {
   "cell_type": "code",
   "execution_count": null,
   "metadata": {},
   "outputs": [],
   "source": [
    "semicolons = df_base[df_base['Affiliations'].str.contains(';')].reset_index(drop=True)\n",
    "semicolons[\"Affiliations\"] = semicolons[\"Affiliations\"].apply(lambda x: x.strip(' ').rstrip('.').rstrip(';'))"
   ]
  },
  {
   "cell_type": "code",
   "execution_count": null,
   "metadata": {},
   "outputs": [],
   "source": [
    "from paper_fetcher.affi_cleaner import ParenthesisDropper, SubstringDropper, StrReplace\n",
    "\n",
    "substrings = Pipeline([\n",
    "    ('par', ParenthesisDropper().set_output(transform=\"pandas\")),\n",
    "    ('sub1', SubstringDropper(substring='No.2').set_output(transform=\"pandas\")),\n",
    "    ('sub2', SubstringDropper(substring='No.2').set_output(transform=\"pandas\")),\n",
    "    ('usa', StrReplace(old='U.S.A.', new='USA').set_output(transform=\"pandas\")),\n",
    "    ('prc', StrReplace(old='P.R. China', new='China').set_output(transform=\"pandas\")),\n",
    "])\n",
    "\n",
    "subs_trans = ColumnTransformer([\n",
    "    ('subs_pipe', substrings, [\"Affiliations\"])\n",
    "], remainder=\"passthrough\")\n",
    "\n",
    "subs_trans.set_output(transform=\"pandas\")"
   ]
  },
  {
   "cell_type": "code",
   "execution_count": null,
   "metadata": {},
   "outputs": [],
   "source": [
    "semicolons = subs_trans.fit_transform(semicolons)\n",
    "semicolons.columns = recover_columns_names(semicolons)"
   ]
  },
  {
   "cell_type": "code",
   "execution_count": null,
   "metadata": {},
   "outputs": [],
   "source": [
    "semicolons['Affiliations'] = semicolons['Affiliations'].str.split(';')\n",
    "semicolons = semicolons.explode('Affiliations').reset_index(drop=True)\n",
    "semicolons"
   ]
  },
  {
   "cell_type": "code",
   "execution_count": null,
   "metadata": {},
   "outputs": [],
   "source": [
    "no_semicolons = df_base[~df_base['Affiliations'].str.contains(';')].reset_index(drop=True)\n",
    "no_semicolons[\"Affiliations\"] = no_semicolons[\"Affiliations\"].apply(lambda x: x.strip(' ').rstrip('.').rstrip(';'))"
   ]
  },
  {
   "cell_type": "code",
   "execution_count": null,
   "metadata": {},
   "outputs": [],
   "source": [
    "no_semicolons = subs_trans.fit_transform(no_semicolons)\n",
    "no_semicolons.columns = recover_columns_names(no_semicolons)\n",
    "no_semicolons"
   ]
  },
  {
   "cell_type": "code",
   "execution_count": null,
   "metadata": {},
   "outputs": [],
   "source": [
    "semicolons.to_csv(os.path.join(FOLDER, 'publications_filtered_v7_semicolons.csv'), index=False)\n",
    "no_semicolons.to_csv(os.path.join(FOLDER, 'publications_filtered_v7_no_semicolons.csv'), index=False)"
   ]
  },
  {
   "cell_type": "code",
   "execution_count": null,
   "metadata": {},
   "outputs": [],
   "source": []
  }
 ],
 "metadata": {
  "kernelspec": {
   "display_name": "paper-fetcher-KoFzYL1a-py3.12",
   "language": "python",
   "name": "python3"
  },
  "language_info": {
   "codemirror_mode": {
    "name": "ipython",
    "version": 3
   },
   "file_extension": ".py",
   "mimetype": "text/x-python",
   "name": "python",
   "nbconvert_exporter": "python",
   "pygments_lexer": "ipython3",
   "version": "3.12.7"
  }
 },
 "nbformat": 4,
 "nbformat_minor": 2
}
